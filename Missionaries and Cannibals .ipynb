{
  "nbformat": 4,
  "nbformat_minor": 0,
  "metadata": {
    "colab": {
      "provenance": [],
      "authorship_tag": "ABX9TyN0Obntvn+t56JcldF91G7S",
      "include_colab_link": true
    },
    "kernelspec": {
      "name": "python3",
      "display_name": "Python 3"
    },
    "language_info": {
      "name": "python"
    }
  },
  "cells": [
    {
      "cell_type": "markdown",
      "metadata": {
        "id": "view-in-github",
        "colab_type": "text"
      },
      "source": [
        "<a href=\"https://colab.research.google.com/github/parajulinirman/AI/blob/main/Missionaries%20and%20Cannibals%20.ipynb\" target=\"_parent\"><img src=\"https://colab.research.google.com/assets/colab-badge.svg\" alt=\"Open In Colab\"/></a>"
      ]
    },
    {
      "cell_type": "code",
      "execution_count": 2,
      "metadata": {
        "colab": {
          "base_uri": "https://localhost:8080/"
        },
        "id": "5S2nNb1x-yQ2",
        "outputId": "60c37070-84a8-4710-c0cb-fe8e9b9d0246"
      },
      "outputs": [
        {
          "output_type": "stream",
          "name": "stdout",
          "text": [
            "Solution found!\n",
            "(3, 3, 0, 0, 'left')\n",
            "(2, 2, 1, 1, 'right')\n",
            "(3, 2, 0, 1, 'left')\n",
            "(3, 0, 0, 3, 'right')\n",
            "(3, 1, 0, 2, 'left')\n",
            "(1, 1, 2, 2, 'right')\n",
            "(2, 2, 1, 1, 'left')\n",
            "(0, 2, 3, 1, 'right')\n",
            "(0, 3, 3, 0, 'left')\n",
            "(0, 1, 3, 2, 'right')\n",
            "(1, 1, 2, 2, 'left')\n",
            "(0, 0, 3, 3, 'right')\n"
          ]
        }
      ],
      "source": [
        "from collections import deque\n",
        "\n",
        "def is_valid_state(state):\n",
        "    m_left, c_left, m_right, c_right = state\n",
        "    # Ensure no more cannibals than missionaries on either side\n",
        "    if (m_left < c_left and m_left > 0) or (m_right < c_right and m_right > 0):\n",
        "        return False\n",
        "    return True\n",
        "\n",
        "def get_successors(state):\n",
        "    m_left, c_left, m_right, c_right, boat_side = state\n",
        "    successors = []\n",
        "    # Possible moves\n",
        "    moves = [(1, 0), (0, 1), (1, 1), (2, 0), (0, 2)]\n",
        "\n",
        "    for m, c in moves:\n",
        "        if boat_side == 'left':\n",
        "            new_state = (m_left - m, c_left - c, m_right + m, c_right + c, 'right')\n",
        "        else:\n",
        "            new_state = (m_left + m, c_left + c, m_right - m, c_right - c, 'left')\n",
        "\n",
        "        # Check if the move is valid\n",
        "        if all(x >= 0 for x in new_state[:4]) and is_valid_state(new_state[:4]):\n",
        "            successors.append(new_state)\n",
        "\n",
        "    return successors\n",
        "\n",
        "def missionaries_and_cannibals():\n",
        "    initial_state = (3, 3, 0, 0, 'left')  # (M_left, C_left, M_right, C_right, boat_side)\n",
        "    goal_state = (0, 0, 3, 3, 'right')\n",
        "\n",
        "    queue = deque([(initial_state, [])])  # State and the path to reach it\n",
        "    visited = set()\n",
        "\n",
        "    while queue:\n",
        "        current_state, path = queue.popleft()\n",
        "\n",
        "        if current_state in visited:\n",
        "            continue\n",
        "\n",
        "        visited.add(current_state)\n",
        "        new_path = path + [current_state]\n",
        "\n",
        "        if current_state[:4] == goal_state[:4]:\n",
        "            return new_path\n",
        "\n",
        "        for successor in get_successors(current_state):\n",
        "            queue.append((successor, new_path))\n",
        "\n",
        "    return None\n",
        "\n",
        "def main():\n",
        "    solution = missionaries_and_cannibals()\n",
        "    if solution:\n",
        "        print(\"Solution found!\")\n",
        "        for step in solution:\n",
        "            print(step)\n",
        "    else:\n",
        "        print(\"No solution found.\")\n",
        "\n",
        "if __name__ == \"__main__\":\n",
        "    main()\n"
      ]
    }
  ]
}