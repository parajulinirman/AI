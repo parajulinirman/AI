{
  "nbformat": 4,
  "nbformat_minor": 0,
  "metadata": {
    "colab": {
      "provenance": [],
      "authorship_tag": "ABX9TyOZgDvDQVH0dBAW03qu9UGU",
      "include_colab_link": true
    },
    "kernelspec": {
      "name": "python3",
      "display_name": "Python 3"
    },
    "language_info": {
      "name": "python"
    }
  },
  "cells": [
    {
      "cell_type": "markdown",
      "metadata": {
        "id": "view-in-github",
        "colab_type": "text"
      },
      "source": [
        "<a href=\"https://colab.research.google.com/github/parajulinirman/AI/blob/main/vaccumcleaner.ipynb\" target=\"_parent\"><img src=\"https://colab.research.google.com/assets/colab-badge.svg\" alt=\"Open In Colab\"/></a>"
      ]
    },
    {
      "cell_type": "code",
      "execution_count": 1,
      "metadata": {
        "colab": {
          "base_uri": "https://localhost:8080/"
        },
        "id": "5S2nNb1x-yQ2",
        "outputId": "79587373-14fb-4d88-8017-8f654f3f3059"
      },
      "outputs": [
        {
          "output_type": "stream",
          "name": "stdout",
          "text": [
            "Step 1:\n",
            "Cleaning A...\n",
            "Environment state: {'A': 'clean', 'B': 'dirty'}\n",
            "--------------------\n",
            "Step 2:\n",
            "Moved to B.\n",
            "Environment state: {'A': 'clean', 'B': 'dirty'}\n",
            "--------------------\n",
            "Step 3:\n",
            "Cleaning B...\n",
            "Environment state: {'A': 'clean', 'B': 'clean'}\n",
            "--------------------\n",
            "Step 4:\n",
            "Moved to A.\n",
            "Environment state: {'A': 'clean', 'B': 'clean'}\n",
            "--------------------\n",
            "Step 5:\n",
            "Moved to B.\n",
            "Environment state: {'A': 'clean', 'B': 'clean'}\n",
            "--------------------\n"
          ]
        }
      ],
      "source": [
        "class VacuumCleaner:\n",
        "    def __init__(self, environment):\n",
        "        \"\"\"\n",
        "        room conditions{'A': 'dirty', 'B': 'clean'}\n",
        "        \"\"\"\n",
        "        self.environment = environment\n",
        "        self.current_location = 'A'  # Starting location of the vacuum cleaner\n",
        "\n",
        "    def sense_environment(self):\n",
        "        \"\"\"\n",
        "        Check the current location's state.\n",
        "        \"\"\"\n",
        "        return self.environment[self.current_location]\n",
        "\n",
        "    def clean(self):\n",
        "        \"\"\"\n",
        "        Clean the current location.\n",
        "        \"\"\"\n",
        "        print(f\"Cleaning {self.current_location}...\")\n",
        "        self.environment[self.current_location] = 'clean'\n",
        "\n",
        "    def move(self):\n",
        "        \"\"\"\n",
        "        Move to the next location.\n",
        "        \"\"\"\n",
        "        if self.current_location == 'A':\n",
        "            self.current_location = 'B'\n",
        "        else:\n",
        "            self.current_location = 'A'\n",
        "        print(f\"Moved to {self.current_location}.\")\n",
        "\n",
        "    def reflex_agent(self):\n",
        "        \"\"\"\n",
        "        Reflex agent logic:\n",
        "        - If the current location is dirty, clean it.\n",
        "        - Otherwise, move to the next location.\n",
        "        \"\"\"\n",
        "        if self.sense_environment() == 'dirty':\n",
        "            self.clean()\n",
        "        else:\n",
        "            self.move()\n",
        "\n",
        "    def run(self, steps=10):\n",
        "        \"\"\"\n",
        "        Run the vacuum cleaner for a specified number of steps.\n",
        "        :param steps: Number of steps to run.\n",
        "        \"\"\"\n",
        "        for step in range(steps):\n",
        "            print(f\"Step {step + 1}:\")\n",
        "            self.reflex_agent()\n",
        "            print(f\"Environment state: {self.environment}\")\n",
        "            print(\"-\" * 20)\n",
        "\n",
        "\n",
        "# Example usage:\n",
        "if __name__ == \"__main__\":\n",
        "    # Initial environment state\n",
        "    environment = {'A': 'dirty', 'B': 'dirty'}\n",
        "\n",
        "    # Create the vacuum cleaner\n",
        "    vacuum = VacuumCleaner(environment)\n",
        "\n",
        "    # Run the vacuum cleaner\n",
        "    vacuum.run(steps=5)"
      ]
    }
  ]
}