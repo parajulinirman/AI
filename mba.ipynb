{
  "nbformat": 4,
  "nbformat_minor": 0,
  "metadata": {
    "colab": {
      "provenance": [],
      "authorship_tag": "ABX9TyOvrqNJDFkjEPguZ82P8FuO",
      "include_colab_link": true
    },
    "kernelspec": {
      "name": "python3",
      "display_name": "Python 3"
    },
    "language_info": {
      "name": "python"
    }
  },
  "cells": [
    {
      "cell_type": "markdown",
      "metadata": {
        "id": "view-in-github",
        "colab_type": "text"
      },
      "source": [
        "<a href=\"https://colab.research.google.com/github/parajulinirman/AI/blob/main/mba.ipynb\" target=\"_parent\"><img src=\"https://colab.research.google.com/assets/colab-badge.svg\" alt=\"Open In Colab\"/></a>"
      ]
    },
    {
      "cell_type": "code",
      "execution_count": 1,
      "metadata": {
        "colab": {
          "base_uri": "https://localhost:8080/"
        },
        "id": "5S2nNb1x-yQ2",
        "outputId": "79587373-14fb-4d88-8017-8f654f3f3059"
      },
      "outputs": [
        {
          "output_type": "stream",
          "name": "stdout",
          "text": [
            "Step 1:\n",
            "Cleaning A...\n",
            "Environment state: {'A': 'clean', 'B': 'dirty'}\n",
            "--------------------\n",
            "Step 2:\n",
            "Moved to B.\n",
            "Environment state: {'A': 'clean', 'B': 'dirty'}\n",
            "--------------------\n",
            "Step 3:\n",
            "Cleaning B...\n",
            "Environment state: {'A': 'clean', 'B': 'clean'}\n",
            "--------------------\n",
            "Step 4:\n",
            "Moved to A.\n",
            "Environment state: {'A': 'clean', 'B': 'clean'}\n",
            "--------------------\n",
            "Step 5:\n",
            "Moved to B.\n",
            "Environment state: {'A': 'clean', 'B': 'clean'}\n",
            "--------------------\n"
          ]
        }
      ],
      "source": [
        "class ModelBasedVacuumCleaner:\n",
        "    def __init__(self, environment):\n",
        "        \"\"\"\n",
        "        Room situations:\n",
        "                            {'A': 'dirty', 'B': 'clean', 'C': 'dirty'}\n",
        "        \"\"\"\n",
        "        self.environment = environment  # Actual environment\n",
        "        self.model = environment.copy()  # Internal model of the environment\n",
        "        self.current_location = 'A'  # Starting location\n",
        "\n",
        "    def sense_environment(self):\n",
        "        \"\"\"\n",
        "        The current state of the environment.\n",
        "        \"\"\"\n",
        "        return self.environment[self.current_location]\n",
        "\n",
        "    def update_model(self, location, state):\n",
        "        \"\"\"\n",
        "        Update the internal model of the environment.\n",
        "        :param location: Location to update.\n",
        "        :param state: New state of the location.\n",
        "        \"\"\"\n",
        "        self.model[location] = state\n",
        "\n",
        "    def clean(self):\n",
        "        \"\"\"\n",
        "        Clean the current location.\n",
        "        \"\"\"\n",
        "        print(f\"Cleaning {self.current_location}...\")\n",
        "        self.environment[self.current_location] = 'clean'\n",
        "        self.update_model(self.current_location, 'clean')\n",
        "\n",
        "    def move(self):\n",
        "        \"\"\"\n",
        "        Move to the next location based on the internal model.\n",
        "        \"\"\"\n",
        "        # Find the next dirty location\n",
        "        for location, state in self.model.items():\n",
        "            if state == 'dirty':\n",
        "                self.current_location = location\n",
        "                print(f\"Moved to {self.current_location}.\")\n",
        "                return\n",
        "        print(\"All locations are clean. Stopping.\")\n",
        "\n",
        "    def reflex_agent_with_model(self):\n",
        "        \"\"\"\n",
        "        Model-based reflex agent logic:\n",
        "        - If the current location is dirty, clean it and update the model.\n",
        "        - Otherwise, move to the next dirty location based on the model.\n",
        "        \"\"\"\n",
        "        if self.sense_environment() == 'dirty':\n",
        "            self.clean()\n",
        "        else:\n",
        "            self.move()\n",
        "\n",
        "    def run(self):\n",
        "        \"\"\"\n",
        "        Run the vacuum cleaner until all rooms are clean.\n",
        "        \"\"\"\n",
        "        steps = 0\n",
        "        while 'dirty' in self.model.values():\n",
        "            print(f\"Step {steps + 1}:\")\n",
        "            self.reflex_agent_with_model()\n",
        "            print(f\"Model state: {self.model}\")\n",
        "            print(f\"Environment state: {self.environment}\")\n",
        "            print(\"-\" * 20)\n",
        "            steps += 1\n",
        "        print(\"All rooms are clean.\")\n",
        "\n",
        "# Example usage:\n",
        "if __name__ == \"__main__\":\n",
        "    # Initial environment state\n",
        "    environment = {'A': 'dirty', 'B': 'dirty', 'C': 'clean'}\n",
        "\n",
        "    # Create the vacuum cleaner\n",
        "    vacuum = ModelBasedVacuumCleaner(environment)\n",
        "\n",
        "    # Run the vacuum cleaner\n",
        "    vacuum.run()"
      ]
    }
  ]
}